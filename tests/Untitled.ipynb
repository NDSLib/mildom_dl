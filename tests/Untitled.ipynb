{
 "cells": [
  {
   "cell_type": "code",
   "execution_count": 18,
   "metadata": {},
   "outputs": [],
   "source": [
    "import json\n",
    "from dataclasses import dataclass\n",
    "import ffmpeg\n",
    "import requests\n",
    "from pprint import pprint\n",
    "import asyncio\n"
   ]
  },
  {
   "cell_type": "code",
   "execution_count": 10,
   "metadata": {},
   "outputs": [],
   "source": [
    "\n",
    "json_str = '{\"code\":0,\"body\":{\"playback\":{\"v_id\":\"10191636-1603368175\",\"user_id\":10191636,\"author_info\":{\"user_id\":10191636,\"login_name\":\"itoenmaccya\",\"pic\":\"https://vpic.mildom.com/download/file/jp/mildom/nnphotos/65c7bf26f7439dd044a6e72d23b69235.png\",\"fans\":1,\"level\":10,\"show_follow_status\":1,\"follow_status\":0},\"country\":\"Japan\",\"live_id\":\"10191636-1603368175\",\"publish_time\":1603368175000,\"audio_url\":\"https://d3ooprpqd2179o.cloudfront.net/vod/jp/10191636/10191636-1603368175/origin/audio/10191636-1603368175_audio.m3u8\",\"audio_length\":1350932,\"video_link\":[{\"name\":\"540p\",\"level\":540,\"definition\":\"540p\",\"url\":\"https://d3ooprpqd2179o.cloudfront.net/vod/jp/10191636/10191636-1603368175/origin/540p/10191636-1603368175_540p.m3u8\",\"video_length\":1350332},{\"name\":\"720p\",\"level\":720,\"definition\":\"720p\",\"url\":\"https://d3ooprpqd2179o.cloudfront.net/vod/jp/10191636/10191636-1603368175/origin/raw/10191636-1603368175_raw.m3u8\",\"video_length\":1350949}],\"video_pic\":\"https://vpic.mildom.com/download/file/jp/mildom/imgs/94f850d3bbf5503d36a65e10b60e8837.png\",\"title\":\"爪痕ダブハン目指してカジュアル\",\"video_intro\":\"ほしいなあ\",\"view_num\":1,\"status\":4,\"video_length\":1350332,\"video_width\":0,\"video_height\":0,\"game_key\":\"Apex_Legends\",\"game_info\":{\"game_name\":\"APEX Legends(PC\\u0026Console)\",\"game_type\":\"pc\"},\"hide_status\":0,\"upload_pic\":\"https://vpic.mildom.com/download/file/jp/mildom/imgs/94f850d3bbf5503d36a65e10b60e8837.png\",\"live_type\":2,\"live_subtype\":2,\"live_mode\":1,\"os_platform\":\"pc\",\"channels\":[\"APEX\",\"all_game\"]}}}'"
   ]
  },
  {
   "cell_type": "code",
   "execution_count": 29,
   "metadata": {
    "collapsed": true
   },
   "outputs": [
    {
     "data": {
      "text/plain": [
       "{'code': 0,\n",
       " 'body': {'playback': {'v_id': '10191636-1603368175',\n",
       "   'user_id': 10191636,\n",
       "   'author_info': {'user_id': 10191636,\n",
       "    'login_name': 'itoenmaccya',\n",
       "    'pic': 'https://vpic.mildom.com/download/file/jp/mildom/nnphotos/65c7bf26f7439dd044a6e72d23b69235.png',\n",
       "    'fans': 1,\n",
       "    'level': 10,\n",
       "    'show_follow_status': 1,\n",
       "    'follow_status': 0},\n",
       "   'country': 'Japan',\n",
       "   'live_id': '10191636-1603368175',\n",
       "   'publish_time': 1603368175000,\n",
       "   'audio_url': 'https://d3ooprpqd2179o.cloudfront.net/vod/jp/10191636/10191636-1603368175/origin/audio/10191636-1603368175_audio.m3u8',\n",
       "   'audio_length': 1350932,\n",
       "   'video_link': [{'name': '540p',\n",
       "     'level': 540,\n",
       "     'definition': '540p',\n",
       "     'url': 'https://d3ooprpqd2179o.cloudfront.net/vod/jp/10191636/10191636-1603368175/origin/540p/10191636-1603368175_540p.m3u8',\n",
       "     'video_length': 1350332},\n",
       "    {'name': '720p',\n",
       "     'level': 720,\n",
       "     'definition': '720p',\n",
       "     'url': 'https://d3ooprpqd2179o.cloudfront.net/vod/jp/10191636/10191636-1603368175/origin/raw/10191636-1603368175_raw.m3u8',\n",
       "     'video_length': 1350949}],\n",
       "   'video_pic': 'https://vpic.mildom.com/download/file/jp/mildom/imgs/94f850d3bbf5503d36a65e10b60e8837.png',\n",
       "   'title': '爪痕ダブハン目指してカジュアル',\n",
       "   'video_intro': 'ほしいなあ',\n",
       "   'view_num': 1,\n",
       "   'status': 4,\n",
       "   'video_length': 1350332,\n",
       "   'video_width': 0,\n",
       "   'video_height': 0,\n",
       "   'game_key': 'Apex_Legends',\n",
       "   'game_info': {'game_name': 'APEX Legends(PC&Console)', 'game_type': 'pc'},\n",
       "   'hide_status': 0,\n",
       "   'upload_pic': 'https://vpic.mildom.com/download/file/jp/mildom/imgs/94f850d3bbf5503d36a65e10b60e8837.png',\n",
       "   'live_type': 2,\n",
       "   'live_subtype': 2,\n",
       "   'live_mode': 1,\n",
       "   'os_platform': 'pc',\n",
       "   'channels': ['APEX', 'all_game']}}}"
      ]
     },
     "execution_count": 29,
     "metadata": {},
     "output_type": "execute_result"
    }
   ],
   "source": [
    "jsn = json.loads(json_str)\n",
    "\n",
    "jsn[\"body\"][\"playback\"][\"video_link\"][-1][\"url\"]\n",
    "jsn"
   ]
  },
  {
   "cell_type": "code",
   "execution_count": null,
   "metadata": {},
   "outputs": [],
   "source": []
  },
  {
   "cell_type": "code",
   "execution_count": 39,
   "metadata": {
    "collapsed": true
   },
   "outputs": [
    {
     "name": "stdout",
     "output_type": "stream",
     "text": [
      "10738086\n",
      "10738086-1598025891\n"
     ]
    }
   ],
   "source": [
    "import re\n",
    "\n",
    "url = \"https://www.mildom.com/playback/10738086?v_id=10738086-1598025891/\"\n",
    "useridS = re.search(r\"playback/\", url).span()[1]\n",
    "aida = re.search(r\"\\?v_id=\", url).span()\n",
    "useridE = aida[0]\n",
    "videoidS = aida[1]\n",
    "user_id = url[useridS:useridE]\n",
    "video_id = url[videoidS::]\n",
    "if video_id[-1] == \"/\":\n",
    "    video_id = video_id[:-1]\n",
    "\n",
    "print(user_id)\n",
    "print(video_id)"
   ]
  },
  {
   "cell_type": "code",
   "execution_count": 51,
   "metadata": {},
   "outputs": [
    {
     "name": "stdout",
     "output_type": "stream",
     "text": [
      "{'audio_length': 2467476,\n",
      " 'audio_url': 'https://d3ooprpqd2179o.cloudfront.net/vod/jp/10000920/10000920-c0hqtogoiibpf78sida0/origin/audio/10000920-c0hqtogoiibpf78sida0_audio.m3u8',\n",
      " 'author_info': {'anchor_live': 13,\n",
      "                 'fans': 430,\n",
      "                 'follow_status': 0,\n",
      "                 'level': 97,\n",
      "                 'login_name': 'あかおに',\n",
      "                 'pic': 'https://vpic.mildom.com/download/file/jp/mildom/nnphotos/cd48466b846a07b8acd96eb9bce468b8.png',\n",
      "                 'show_follow_status': 1,\n",
      "                 'user_id': 10000920},\n",
      " 'channels': ['APEX', 'all_game'],\n",
      " 'country': 'Japan',\n",
      " 'device_model': 'samsungSCG01',\n",
      " 'game_info': {'game_name': 'APEX Legends(PC&Console)', 'game_type': 'pc'},\n",
      " 'game_key': 'Apex_Legends',\n",
      " 'hide_status': 0,\n",
      " 'live_id': '10000920-c0hqtogoiibpf78sida0',\n",
      " 'live_mode': 1,\n",
      " 'live_subtype': 2,\n",
      " 'live_tags': ['コメント歓迎', '初見歓迎', 'シングルプレイ', 'エンジョイ', 'のんびり'],\n",
      " 'live_type': 2,\n",
      " 'os_platform': 'pc',\n",
      " 'publish_time': 1612951282000,\n",
      " 'source_part_url': [{'file_size': 669175913,\n",
      "                      'part': 0,\n",
      "                      'url': 'https://d3ooprpqd2179o.cloudfront.net/vod/jp/10000920/10000920-c0hqtogoiibpf78sida0/10000920-c0hqtogoiibpf78sida0-0.mp4'}],\n",
      " 'source_url': 'https://d3ooprpqd2179o.cloudfront.net/vod/jp/10000920/10000920-c0hqtogoiibpf78sida0/10000920-c0hqtogoiibpf78sida0-0.mp4',\n",
      " 'status': 4,\n",
      " 'title': '【常時福引】エペやる～\\u3000カジュアルで練習',\n",
      " 'upload_pic': 'https://vpic.mildom.com/download/file/jp/mildom/imgs/9ec7923465d78d52430c56af5c85ee72.png',\n",
      " 'user_id': 10000920,\n",
      " 'v_id': '10000920-c0hqtogoiibpf78sida0',\n",
      " 'video_height': 720,\n",
      " 'video_intro': 'コメント大歓迎！初見さんもたくさんコメントしてってね♪\\n10回はコメントしてくれると助かる！！！',\n",
      " 'video_length': 2467580,\n",
      " 'video_link': [{'definition': '540p',\n",
      "                 'level': 540,\n",
      "                 'name': '540p',\n",
      "                 'url': 'https://d3ooprpqd2179o.cloudfront.net/vod/jp/10000920/10000920-c0hqtogoiibpf78sida0/origin/540p/10000920-c0hqtogoiibpf78sida0_540p.m3u8',\n",
      "                 'video_length': 2466916},\n",
      "                {'definition': '720p',\n",
      "                 'level': 720,\n",
      "                 'name': '720p',\n",
      "                 'url': 'https://d3ooprpqd2179o.cloudfront.net/vod/jp/10000920/10000920-c0hqtogoiibpf78sida0/origin/raw/10000920-c0hqtogoiibpf78sida0_raw.m3u8',\n",
      "                 'video_length': 2467565}],\n",
      " 'video_pic': 'https://vpic.mildom.com/download/file/jp/mildom/imgs/9ec7923465d78d52430c56af5c85ee72.png',\n",
      " 'video_width': 1280,\n",
      " 'view_num': 1}\n"
     ]
    }
   ],
   "source": [
    "# Archive\n",
    "\n",
    "import requests\n",
    "from pprint import pprint\n",
    "\n",
    "# https://www.mildom.com/playback/10000920/10000920-c0hqtogoiibpf78sida0\n",
    "\n",
    "url = \"http://cloudac.mildom.com/nonolive/videocontent/playback/getPlaybackDetail?v_id=10000920-c0hqtogoiibpf78sida0\"\n",
    "\n",
    "\n",
    "req = requests.get(url).json()\n",
    "\n",
    "pprint(req[\"body\"][\"playback\"])"
   ]
  },
  {
   "cell_type": "code",
   "execution_count": 3,
   "metadata": {
    "collapsed": true
   },
   "outputs": [
    {
     "ename": "TypeError",
     "evalue": "'NoneType' object is not subscriptable",
     "output_type": "error",
     "traceback": [
      "\u001b[0;31m---------------------------------------------------------------------------\u001b[0m",
      "\u001b[0;31mTypeError\u001b[0m                                 Traceback (most recent call last)",
      "\u001b[0;32m<ipython-input-3-6a45c34ce09e>\u001b[0m in \u001b[0;36m<module>\u001b[0;34m\u001b[0m\n\u001b[1;32m      1\u001b[0m \u001b[0;31m# req[\"body\"][\"playback\"][\"source_part_url\"][0][\"url\"]\u001b[0m\u001b[0;34m\u001b[0m\u001b[0;34m\u001b[0m\u001b[0;34m\u001b[0m\u001b[0m\n\u001b[0;32m----> 2\u001b[0;31m \u001b[0mreq\u001b[0m\u001b[0;34m[\u001b[0m\u001b[0;34m\"body\"\u001b[0m\u001b[0;34m]\u001b[0m\u001b[0;34m[\u001b[0m\u001b[0;34m\"playback\"\u001b[0m\u001b[0;34m]\u001b[0m\u001b[0;34m[\u001b[0m\u001b[0;34m\"source_part_url\"\u001b[0m\u001b[0;34m]\u001b[0m\u001b[0;34m[\u001b[0m\u001b[0;36m0\u001b[0m\u001b[0;34m]\u001b[0m\u001b[0;34m[\u001b[0m\u001b[0;34m\"url\"\u001b[0m\u001b[0;34m]\u001b[0m\u001b[0;34m\u001b[0m\u001b[0;34m\u001b[0m\u001b[0m\n\u001b[0m",
      "\u001b[0;31mTypeError\u001b[0m: 'NoneType' object is not subscriptable"
     ]
    }
   ],
   "source": [
    "# req[\"body\"][\"playback\"][\"source_part_url\"][0][\"url\"]\n",
    "req[\"body\"][\"playback\"][\"source_part_url\"][0][\"url\"]"
   ]
  },
  {
   "cell_type": "code",
   "execution_count": 60,
   "metadata": {
    "scrolled": false
   },
   "outputs": [
    {
     "name": "stdout",
     "output_type": "stream",
     "text": [
      "{'body': {'StreamMode': '',\n",
      "          'anchor_group': ['5dd61c0e29d2d91fed51847f'],\n",
      "          'anchor_intro': 'a',\n",
      "          'anchor_live': 11,\n",
      "          'anchor_type_logo': 'jp/mildom/nnimgs/43ef5573b55c6bc438e927f95ac46a12?p=0',\n",
      "          'avatar': 'https://vpic.mildom.com/download/file/jp/mildom/nnphotos/40f33b790ebb330e89b04c8fd5fb68b2.png',\n",
      "          'certification_intro': ' 公認配信者',\n",
      "          'certification_logo': 'https://wia.mildom.com/assets/static/certification_logo.png',\n",
      "          'channel_key': 'Minecraft_PC',\n",
      "          'channel_lang': [{'location': 'default',\n",
      "                            'text': 'マインクラフト（Minecraft）(PC&Console)'},\n",
      "                           {'location': 'Japan',\n",
      "                            'text': 'マインクラフト（Minecraft）(PC&Console)'}],\n",
      "          'cluster': 'aws_japan',\n",
      "          'cmode_audio': 'audio',\n",
      "          'country': 'Japan',\n",
      "          'exp': 300653.30000000016,\n",
      "          'ext': {'cmode_params': [{'cmode': 'raw',\n",
      "                                    'mobile_net_support': 0,\n",
      "                                    'name': '1080p',\n",
      "                                    'pixel': 1080},\n",
      "                                   {'cmode': '720p',\n",
      "                                    'mobile_net_support': 1,\n",
      "                                    'name': '720p',\n",
      "                                    'pixel': 720},\n",
      "                                   {'cmode': '540p',\n",
      "                                    'mobile_net_support': 1,\n",
      "                                    'name': '540p',\n",
      "                                    'pixel': 540},\n",
      "                                   {'cmode': '360p',\n",
      "                                    'mobile_net_support': 1,\n",
      "                                    'name': '360p',\n",
      "                                    'pixel': 360},\n",
      "                                   {'cmode': '144p',\n",
      "                                    'mobile_net_support': 1,\n",
      "                                    'name': '144p',\n",
      "                                    'pixel': 144}],\n",
      "                  'live_mode': 1,\n",
      "                  'special_gift_list': [],\n",
      "                  'support_face_gift_list': []},\n",
      "          'fans': 246795,\n",
      "          'finance_country': 'Japan',\n",
      "          'follow_status': 0,\n",
      "          'game_key': 'Minecraft_PC',\n",
      "          'game_type': 'pc',\n",
      "          'gift_revenue_history': 8237207,\n",
      "          'hour_rank': {'rank': 44},\n",
      "          'intro': '渋谷ハルカスタム 配信リンク https://mildom.com/11421222',\n",
      "          'level': 95,\n",
      "          'live_intro': 'カスきえろ',\n",
      "          'live_mode': 1,\n",
      "          'live_start_ms': 1612957157000,\n",
      "          'live_subtype': 2,\n",
      "          'live_type': 2,\n",
      "          'log_id': '10105254-c0hsbigoiibpf7al63j0',\n",
      "          'loginname': 'KUN',\n",
      "          'my_id': 10105254,\n",
      "          'pic': 'https://vpic.mildom.com/download/file/jp/mildom/imgs/0b7cbfde2107cf8758ded601dc636469.png',\n",
      "          'platform': '',\n",
      "          'playback_permission': 1,\n",
      "          'realtime_playback_info': {'audio_url': 'https://d3ooprpqd2179o.cloudfront.net/vod/jp/10105254/10105254-c0hsbigoiibpf7al63j0/origin/audio/10105254-c0hsbigoiibpf7al63j0_audio.m3u8',\n",
      "                                     'status': 3,\n",
      "                                     'video_link': [{'definition': '144p',\n",
      "                                                     'level': 144,\n",
      "                                                     'name': '144p',\n",
      "                                                     'url': 'https://d3ooprpqd2179o.cloudfront.net/vod/jp/10105254/10105254-c0hsbigoiibpf7al63j0/origin/144p/10105254-c0hsbigoiibpf7al63j0_144p.m3u8',\n",
      "                                                     'video_length': 0},\n",
      "                                                    {'definition': '360p',\n",
      "                                                     'level': 360,\n",
      "                                                     'name': '360p',\n",
      "                                                     'url': 'https://d3ooprpqd2179o.cloudfront.net/vod/jp/10105254/10105254-c0hsbigoiibpf7al63j0/origin/360p/10105254-c0hsbigoiibpf7al63j0_360p.m3u8',\n",
      "                                                     'video_length': 0},\n",
      "                                                    {'definition': '540p',\n",
      "                                                     'level': 540,\n",
      "                                                     'name': '540p',\n",
      "                                                     'url': 'https://d3ooprpqd2179o.cloudfront.net/vod/jp/10105254/10105254-c0hsbigoiibpf7al63j0/origin/540p/10105254-c0hsbigoiibpf7al63j0_540p.m3u8',\n",
      "                                                     'video_length': 0},\n",
      "                                                    {'definition': '720p',\n",
      "                                                     'level': 720,\n",
      "                                                     'name': '720p',\n",
      "                                                     'url': 'https://d3ooprpqd2179o.cloudfront.net/vod/jp/10105254/10105254-c0hsbigoiibpf7al63j0/origin/720p/10105254-c0hsbigoiibpf7al63j0_720p.m3u8',\n",
      "                                                     'video_length': 0},\n",
      "                                                    {'definition': 'raw',\n",
      "                                                     'level': 1080,\n",
      "                                                     'name': '1080p',\n",
      "                                                     'url': 'https://d3ooprpqd2179o.cloudfront.net/vod/jp/10105254/10105254-c0hsbigoiibpf7al63j0/origin/raw/10105254-c0hsbigoiibpf7al63j0_raw.m3u8',\n",
      "                                                     'video_length': 0}]},\n",
      "          'realtime_playback_on': 1,\n",
      "          'realtime_v_id': '10105254-c0hsbigoiibpf7al63j0',\n",
      "          'recognize_label': {},\n",
      "          'recommend_tag': {},\n",
      "          'record_enable': 0,\n",
      "          'room_setting': {'chat_level_limit': 20,\n",
      "                           'chat_must_fans': 0,\n",
      "                           'guest_chat_interval': 10,\n",
      "                           'no_chat_off_live': 0},\n",
      "          'screen_type': 0,\n",
      "          'sex': 1,\n",
      "          'sex_visible': 1,\n",
      "          'shield_send_gift': 0,\n",
      "          'show_rec_status': 1,\n",
      "          'status': 10,\n",
      "          'user_cluster': 'aws_japan',\n",
      "          'user_id': 10105254,\n",
      "          'user_privilege': None,\n",
      "          'viewers': 2319,\n",
      "          'vote_on_going': 1},\n",
      " 'code': 0,\n",
      " 'setting_version': 502,\n",
      " 'ts_ms': 1612960776718}\n"
     ]
    }
   ],
   "source": [
    "# isLive\n",
    "# url = \"https://cloudac.mildom.com/nonolive/gappserv/live/enterstudio?__cluster=aws_japan&__platform=web&__la=ja&__user_id=0&__pcv=v2.8.44&timestamp=&sfr=pc&accessToken=&user_id=10738086\"\n",
    "\n",
    "url = \"https://cloudac.mildom.com/nonolive/gappserv/live/enterstudio?__cluster=aws_japan&__platform=web&__la=ja&__user_id=0&__pcv=v2.8.44&timestamp=&sfr=pc&accessToken=&user_id=10105254\"\n",
    "\n",
    "\n",
    "req = requests.get(url).json()\n",
    "\n",
    "pprint(req)              "
   ]
  },
  {
   "cell_type": "code",
   "execution_count": 61,
   "metadata": {},
   "outputs": [
    {
     "ename": "KeyError",
     "evalue": "'playback'",
     "output_type": "error",
     "traceback": [
      "\u001b[0;31m---------------------------------------------------------------------------\u001b[0m",
      "\u001b[0;31mKeyError\u001b[0m                                  Traceback (most recent call last)",
      "\u001b[0;32m<ipython-input-61-14bfc778cc27>\u001b[0m in \u001b[0;36m<module>\u001b[0;34m\u001b[0m\n\u001b[1;32m      2\u001b[0m \u001b[0;34m\u001b[0m\u001b[0m\n\u001b[1;32m      3\u001b[0m \u001b[0;34m\u001b[0m\u001b[0m\n\u001b[0;32m----> 4\u001b[0;31m \u001b[0manchor_live\u001b[0m \u001b[0;34m=\u001b[0m \u001b[0mreq\u001b[0m\u001b[0;34m[\u001b[0m\u001b[0;34m'body'\u001b[0m\u001b[0;34m]\u001b[0m\u001b[0;34m[\u001b[0m\u001b[0;34m'playback'\u001b[0m\u001b[0;34m]\u001b[0m\u001b[0;34m[\u001b[0m\u001b[0;34m\"author_info\"\u001b[0m\u001b[0;34m]\u001b[0m\u001b[0;34m[\u001b[0m\u001b[0;34m'anchor_live'\u001b[0m\u001b[0;34m]\u001b[0m\u001b[0;34m\u001b[0m\u001b[0;34m\u001b[0m\u001b[0m\n\u001b[0m\u001b[1;32m      5\u001b[0m \u001b[0;32mif\u001b[0m \u001b[0manchor_live\u001b[0m \u001b[0;34m!=\u001b[0m \u001b[0;36m11\u001b[0m\u001b[0;34m:\u001b[0m\u001b[0;34m\u001b[0m\u001b[0;34m\u001b[0m\u001b[0m\n\u001b[1;32m      6\u001b[0m     \u001b[0;32mraise\u001b[0m \u001b[0mException\u001b[0m\u001b[0;34m(\u001b[0m\u001b[0;34m\"This user is not live　now. このユーザは現在ライブ中ではありません。\"\u001b[0m\u001b[0;34m)\u001b[0m\u001b[0;34m\u001b[0m\u001b[0;34m\u001b[0m\u001b[0m\n",
      "\u001b[0;31mKeyError\u001b[0m: 'playback'"
     ]
    }
   ],
   "source": [
    "quality = \"raw\"\n",
    "\n",
    "\n",
    "anchor_live = req['body']['playback'][\"author_info\"]['anchor_live']\n",
    "if anchor_live != 11:\n",
    "    raise Exception(\"This user is not live　now. このユーザは現在ライブ中ではありません。\")\n",
    "\n",
    "datas = req[\"body\"][\"realtime_playback_info\"][\"video_link\"]\n",
    "\n",
    "datas_quality = [d['definition'] for d in datas]\n",
    "\n",
    "data_quality_index = datas_quality.index(quality)\n",
    "#  === LIVE m3u8 URL ===\n",
    "m3u8URL = datas[data_quality_index].get(\"url\")\n",
    "\n",
    "print(m3u8URL)\n"
   ]
  },
  {
   "cell_type": "code",
   "execution_count": 37,
   "metadata": {},
   "outputs": [
    {
     "name": "stdout",
     "output_type": "stream",
     "text": [
      "deleted test.mp4\n",
      "Done! 84.3420832157135\n"
     ]
    }
   ],
   "source": [
    "# ffmpeg.input(m3u8URL).output(\"test.mp4\", c=\"copy\", movflags=\"empty_moov\").run()\n",
    "!rm test.mp4 foo.mp4 && echo deleted test.mp4\n",
    "\n",
    "# m3u8URL = \"https://d3ooprpqd2179o.cloudfront.net/vod/jp/10004306/10004306-1612935068/origin/raw/10004306-1612935068_raw.m3u8\"\n",
    "\n",
    "try:\n",
    "    (ffmpeg\n",
    "         .input(m3u8URL)\n",
    "         .output(\"test.mp4\", preset='fast', movflags=\"frag_keyframe+empty_moov\", c=\"copy\", **{\"bsf:a\": \"aac_adtstoasc\"}, pix_fmt='yuv420p')\n",
    "         .run()\n",
    "    )\n",
    "except KeyboardInterrupt:\n",
    "    print(\"ctrl + C called\")\n",
    "    # FIXME: moovが欠けてるため、全部再生できない(VLCではいけた。) https://qiita.com/kichiki/items/c6ad1cda80c00810928d\n",
    "except Exception as e:\n",
    "    print(\"ERROR!\", e)\n",
    "from time import time\n",
    "t = time()\n",
    "(ffmpeg\n",
    "     .input(\"test.mp4\")\n",
    "     .output(\"foo.mp4\", c=\"copy\")\n",
    "     .run()\n",
    ")\n",
    "print(\"Done!\", time() - t)\n"
   ]
  },
  {
   "cell_type": "code",
   "execution_count": null,
   "metadata": {},
   "outputs": [],
   "source": []
  },
  {
   "cell_type": "code",
   "execution_count": null,
   "metadata": {},
   "outputs": [],
   "source": []
  }
 ],
 "metadata": {
  "kernelspec": {
   "display_name": "Python 3",
   "language": "python",
   "name": "python3"
  },
  "language_info": {
   "codemirror_mode": {
    "name": "ipython",
    "version": 3
   },
   "file_extension": ".py",
   "mimetype": "text/x-python",
   "name": "python",
   "nbconvert_exporter": "python",
   "pygments_lexer": "ipython3",
   "version": "3.7.9"
  }
 },
 "nbformat": 4,
 "nbformat_minor": 4
}
