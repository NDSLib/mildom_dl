{
 "cells": [
  {
   "cell_type": "code",
   "execution_count": 1,
   "metadata": {},
   "outputs": [],
   "source": [
    "import json"
   ]
  },
  {
   "cell_type": "code",
   "execution_count": 10,
   "metadata": {},
   "outputs": [],
   "source": [
    "\n",
    "json_str = '{\"code\":0,\"body\":{\"playback\":{\"v_id\":\"10191636-1603368175\",\"user_id\":10191636,\"author_info\":{\"user_id\":10191636,\"login_name\":\"itoenmaccya\",\"pic\":\"https://vpic.mildom.com/download/file/jp/mildom/nnphotos/65c7bf26f7439dd044a6e72d23b69235.png\",\"fans\":1,\"level\":10,\"show_follow_status\":1,\"follow_status\":0},\"country\":\"Japan\",\"live_id\":\"10191636-1603368175\",\"publish_time\":1603368175000,\"audio_url\":\"https://d3ooprpqd2179o.cloudfront.net/vod/jp/10191636/10191636-1603368175/origin/audio/10191636-1603368175_audio.m3u8\",\"audio_length\":1350932,\"video_link\":[{\"name\":\"540p\",\"level\":540,\"definition\":\"540p\",\"url\":\"https://d3ooprpqd2179o.cloudfront.net/vod/jp/10191636/10191636-1603368175/origin/540p/10191636-1603368175_540p.m3u8\",\"video_length\":1350332},{\"name\":\"720p\",\"level\":720,\"definition\":\"720p\",\"url\":\"https://d3ooprpqd2179o.cloudfront.net/vod/jp/10191636/10191636-1603368175/origin/raw/10191636-1603368175_raw.m3u8\",\"video_length\":1350949}],\"video_pic\":\"https://vpic.mildom.com/download/file/jp/mildom/imgs/94f850d3bbf5503d36a65e10b60e8837.png\",\"title\":\"爪痕ダブハン目指してカジュアル\",\"video_intro\":\"ほしいなあ\",\"view_num\":1,\"status\":4,\"video_length\":1350332,\"video_width\":0,\"video_height\":0,\"game_key\":\"Apex_Legends\",\"game_info\":{\"game_name\":\"APEX Legends(PC\\u0026Console)\",\"game_type\":\"pc\"},\"hide_status\":0,\"upload_pic\":\"https://vpic.mildom.com/download/file/jp/mildom/imgs/94f850d3bbf5503d36a65e10b60e8837.png\",\"live_type\":2,\"live_subtype\":2,\"live_mode\":1,\"os_platform\":\"pc\",\"channels\":[\"APEX\",\"all_game\"]}}}'"
   ]
  },
  {
   "cell_type": "code",
   "execution_count": 29,
   "metadata": {},
   "outputs": [
    {
     "data": {
      "text/plain": [
       "{'code': 0,\n",
       " 'body': {'playback': {'v_id': '10191636-1603368175',\n",
       "   'user_id': 10191636,\n",
       "   'author_info': {'user_id': 10191636,\n",
       "    'login_name': 'itoenmaccya',\n",
       "    'pic': 'https://vpic.mildom.com/download/file/jp/mildom/nnphotos/65c7bf26f7439dd044a6e72d23b69235.png',\n",
       "    'fans': 1,\n",
       "    'level': 10,\n",
       "    'show_follow_status': 1,\n",
       "    'follow_status': 0},\n",
       "   'country': 'Japan',\n",
       "   'live_id': '10191636-1603368175',\n",
       "   'publish_time': 1603368175000,\n",
       "   'audio_url': 'https://d3ooprpqd2179o.cloudfront.net/vod/jp/10191636/10191636-1603368175/origin/audio/10191636-1603368175_audio.m3u8',\n",
       "   'audio_length': 1350932,\n",
       "   'video_link': [{'name': '540p',\n",
       "     'level': 540,\n",
       "     'definition': '540p',\n",
       "     'url': 'https://d3ooprpqd2179o.cloudfront.net/vod/jp/10191636/10191636-1603368175/origin/540p/10191636-1603368175_540p.m3u8',\n",
       "     'video_length': 1350332},\n",
       "    {'name': '720p',\n",
       "     'level': 720,\n",
       "     'definition': '720p',\n",
       "     'url': 'https://d3ooprpqd2179o.cloudfront.net/vod/jp/10191636/10191636-1603368175/origin/raw/10191636-1603368175_raw.m3u8',\n",
       "     'video_length': 1350949}],\n",
       "   'video_pic': 'https://vpic.mildom.com/download/file/jp/mildom/imgs/94f850d3bbf5503d36a65e10b60e8837.png',\n",
       "   'title': '爪痕ダブハン目指してカジュアル',\n",
       "   'video_intro': 'ほしいなあ',\n",
       "   'view_num': 1,\n",
       "   'status': 4,\n",
       "   'video_length': 1350332,\n",
       "   'video_width': 0,\n",
       "   'video_height': 0,\n",
       "   'game_key': 'Apex_Legends',\n",
       "   'game_info': {'game_name': 'APEX Legends(PC&Console)', 'game_type': 'pc'},\n",
       "   'hide_status': 0,\n",
       "   'upload_pic': 'https://vpic.mildom.com/download/file/jp/mildom/imgs/94f850d3bbf5503d36a65e10b60e8837.png',\n",
       "   'live_type': 2,\n",
       "   'live_subtype': 2,\n",
       "   'live_mode': 1,\n",
       "   'os_platform': 'pc',\n",
       "   'channels': ['APEX', 'all_game']}}}"
      ]
     },
     "execution_count": 29,
     "metadata": {},
     "output_type": "execute_result"
    }
   ],
   "source": [
    "jsn = json.loads(json_str)\n",
    "\n",
    "jsn[\"body\"][\"playback\"][\"video_link\"][-1][\"url\"]\n",
    "jsn"
   ]
  },
  {
   "cell_type": "code",
   "execution_count": null,
   "metadata": {},
   "outputs": [],
   "source": []
  },
  {
   "cell_type": "code",
   "execution_count": 39,
   "metadata": {},
   "outputs": [
    {
     "name": "stdout",
     "output_type": "stream",
     "text": [
      "10738086\n",
      "10738086-1598025891\n"
     ]
    }
   ],
   "source": [
    "import re\n",
    "\n",
    "url = \"https://www.mildom.com/playback/10738086?v_id=10738086-1598025891/\"\n",
    "\n",
    "useridS = re.search(r\"playback/\", url).span()[1]\n",
    "aida = re.search(r\"\\?v_id=\", url).span()\n",
    "useridE = aida[0]\n",
    "videoidS = aida[1]\n",
    "user_id = url[useridS:useridE]\n",
    "video_id = url[videoidS::]\n",
    "if video_id[-1] == \"/\":\n",
    "    video_id = video_id[:-1]\n",
    "\n",
    "print(user_id)\n",
    "print(video_id)"
   ]
  },
  {
   "cell_type": "code",
   "execution_count": 44,
   "metadata": {},
   "outputs": [
    {
     "name": "stdout",
     "output_type": "stream",
     "text": [
      "{'body': {'playback': {'audio_length': 2130420,\n",
      "                       'audio_url': 'https://d3ooprpqd2179o.cloudfront.net/vod/jp/11542540/11542540-bv9iq9taks9c5q95eef0/origin/audio/11542540-bv9iq9taks9c5q95eef0_audio.m3u8',\n",
      "                       'author_info': {'anchor_live': 13,\n",
      "                                       'fans': 5,\n",
      "                                       'follow_status': 0,\n",
      "                                       'level': 34,\n",
      "                                       'login_name': 'あまきちゃん',\n",
      "                                       'pic': 'https://vpic.mildom.com/download/file/jp/mildom/nnphotos/1b70fcf1642be279518d4873b4d2e266.png',\n",
      "                                       'show_follow_status': 1,\n",
      "                                       'user_id': 11542540},\n",
      "                       'channels': ['APEX', 'all_game'],\n",
      "                       'country': 'Japan',\n",
      "                       'game_info': {'game_name': 'APEX Legends(PC&Console)',\n",
      "                                     'game_type': 'pc'},\n",
      "                       'game_key': 'Apex_Legends',\n",
      "                       'hide_status': 0,\n",
      "                       'live_id': '11542540-bv9iq9taks9c5q95eef0',\n",
      "                       'live_mode': 1,\n",
      "                       'live_subtype': 2,\n",
      "                       'live_type': 2,\n",
      "                       'os_platform': 'pc',\n",
      "                       'publish_time': 1607687409000,\n",
      "                       'source_part_url': [{'file_size': 1637942987,\n",
      "                                            'part': 0,\n",
      "                                            'url': 'https://d3ooprpqd2179o.cloudfront.net/vod/jp/11542540/11542540-bv9iq9taks9c5q95eef0/11542540-bv9iq9taks9c5q95eef0-0.mp4'}],\n",
      "                       'source_url': 'https://d3ooprpqd2179o.cloudfront.net/vod/jp/11542540/11542540-bv9iq9taks9c5q95eef0/11542540-bv9iq9taks9c5q95eef0-0.mp4',\n",
      "                       'status': 4,\n",
      "                       'title': '【Apex Legends】 カジュアル',\n",
      "                       'upload_pic': 'https://vpic.mildom.com/download/file/jp/mildom/imgs/964e67bbb1410b683afa1d8b120fbe25.png',\n",
      "                       'user_id': 11542540,\n",
      "                       'v_id': '11542540-bv9iq9taks9c5q95eef0',\n",
      "                       'video_height': 720,\n",
      "                       'video_intro': 'ご視聴頂きありがとうございます！\\n始めて1か月ちょっとの初心者です',\n",
      "                       'video_length': 2126900,\n",
      "                       'video_link': [{'definition': '540p',\n",
      "                                       'level': 540,\n",
      "                                       'name': '540p',\n",
      "                                       'url': 'https://d3ooprpqd2179o.cloudfront.net/vod/jp/11542540/11542540-bv9iq9taks9c5q95eef0/origin/540p/11542540-bv9iq9taks9c5q95eef0_540p.m3u8',\n",
      "                                       'video_length': 2129904},\n",
      "                                      {'definition': '720p',\n",
      "                                       'level': 720,\n",
      "                                       'name': '720p',\n",
      "                                       'url': 'https://d3ooprpqd2179o.cloudfront.net/vod/jp/11542540/11542540-bv9iq9taks9c5q95eef0/origin/raw/11542540-bv9iq9taks9c5q95eef0_raw.m3u8',\n",
      "                                       'video_length': 2126865}],\n",
      "                       'video_pic': 'https://vpic.mildom.com/download/file/jp/mildom/imgs/964e67bbb1410b683afa1d8b120fbe25.png',\n",
      "                       'video_width': 1280,\n",
      "                       'view_num': 1}},\n",
      " 'code': 0}\n"
     ]
    }
   ],
   "source": [
    "import requests\n",
    "from pprint import pprint\n",
    "\n",
    "url = \"http://cloudac.mildom.com/nonolive/videocontent/playback/getPlaybackDetail?v_id=11542540-bv9iq9taks9c5q95eef0\"\n",
    "\n",
    "\n",
    "req = requests.get(url).json()\n",
    "\n",
    "pprint(req)"
   ]
  },
  {
   "cell_type": "code",
   "execution_count": 45,
   "metadata": {},
   "outputs": [
    {
     "data": {
      "text/plain": [
       "'https://d3ooprpqd2179o.cloudfront.net/vod/jp/11542540/11542540-bv9iq9taks9c5q95eef0/11542540-bv9iq9taks9c5q95eef0-0.mp4'"
      ]
     },
     "execution_count": 45,
     "metadata": {},
     "output_type": "execute_result"
    }
   ],
   "source": [
    "# req[\"body\"][\"playback\"][\"source_part_url\"][0][\"url\"]\n",
    "req[\"body\"][\"playback\"][\"source_part_url\"][0][\"url\"]"
   ]
  },
  {
   "cell_type": "code",
   "execution_count": 39,
   "metadata": {
    "scrolled": false
   },
   "outputs": [
    {
     "name": "stdout",
     "output_type": "stream",
     "text": [
      "{'body': {'StreamMode': '',\n",
      "          'anchor_group': ['5dd61c0e29d2d91fed51847f'],\n",
      "          'anchor_intro': 'ガチ勢AmongUs',\n",
      "          'anchor_live': 13,\n",
      "          'anchor_type_logo': 'jp/mildom/nnimgs/43ef5573b55c6bc438e927f95ac46a12?p=0',\n",
      "          'avatar': 'https://vpic.mildom.com/download/file/jp/mildom/nnphotos/4d5dbb34b618dd4abdb36ec0f497f0bf.png',\n",
      "          'certification_intro': '公認配信者',\n",
      "          'certification_logo': 'https://wia.mildom.com/assets/static/certification_logo.png',\n",
      "          'channel_lang': [],\n",
      "          'cmode_audio': 'audio',\n",
      "          'country': 'Japan',\n",
      "          'exp': 58406.32499999997,\n",
      "          'ext': {'cmode_params': [{'cmode': 'raw',\n",
      "                                    'mobile_net_support': 0,\n",
      "                                    'name': '1080p',\n",
      "                                    'pixel': 1080},\n",
      "                                   {'cmode': '720p',\n",
      "                                    'mobile_net_support': 1,\n",
      "                                    'name': '720p',\n",
      "                                    'pixel': 720},\n",
      "                                   {'cmode': '540p',\n",
      "                                    'mobile_net_support': 1,\n",
      "                                    'name': '540p',\n",
      "                                    'pixel': 540},\n",
      "                                   {'cmode': '360p',\n",
      "                                    'mobile_net_support': 1,\n",
      "                                    'name': '360p',\n",
      "                                    'pixel': 360},\n",
      "                                   {'cmode': '144p',\n",
      "                                    'mobile_net_support': 1,\n",
      "                                    'name': '144p',\n",
      "                                    'pixel': 144}],\n",
      "                  'live_mode': 1,\n",
      "                  'special_gift_list': [],\n",
      "                  'support_face_gift_list': []},\n",
      "          'fans': 3882,\n",
      "          'finance_country': 'Japan',\n",
      "          'follow_status': 0,\n",
      "          'gift_revenue_history': 2698029,\n",
      "          'hour_rank': {'rank': -1},\n",
      "          'level': 67,\n",
      "          'live_intro': '人狼、AmongUsの実況をメインに色々やっていきます。\\n'\n",
      "                        '\\n'\n",
      "                        'Twitter\\n'\n",
      "                        'https://twitter.com/ptehashi',\n",
      "          'live_start_ms': 1607693671222,\n",
      "          'live_type': 2,\n",
      "          'loginname': 'プテラたかはし',\n",
      "          'my_id': 10738086,\n",
      "          'pic': 'https://vpic.mildom.com/download/file/jp/mildom/imgs/9231c0ea1d80dac44f76e2709448a370.png',\n",
      "          'platform': '',\n",
      "          'playback_permission': 1,\n",
      "          'recognize_label': {},\n",
      "          'recommend_tag': {},\n",
      "          'record_enable': 0,\n",
      "          'room_setting': {'chat_interval': 1,\n",
      "                           'chat_level_limit': 0,\n",
      "                           'chat_must_fans': 0,\n",
      "                           'guest_chat_interval': 10,\n",
      "                           'no_chat_off_live': 0},\n",
      "          'screen_type': 0,\n",
      "          'sex': 1,\n",
      "          'sex_visible': 1,\n",
      "          'shield_send_gift': 0,\n",
      "          'show_rec_status': 0,\n",
      "          'status': 10,\n",
      "          'user_cluster': 'aws_japan',\n",
      "          'user_id': 10738086,\n",
      "          'viewers': 18},\n",
      " 'code': 0,\n",
      " 'setting_version': 393,\n",
      " 'ts_ms': 1607693671228}\n"
     ]
    }
   ],
   "source": [
    "# isLive\n",
    "url = \"https://cloudac.mildom.com/nonolive/gappserv/live/enterstudio?__cluster=aws_japan&__platform=web&__la=ja&__user_id=0&__pcv=v2.8.44&timestamp=&sfr=pc&accessToken=&user_id=10738086\"\n",
    "\n",
    "\n",
    "req = requests.get(url).json()\n",
    "\n",
    "pprint(req)\n",
    "              "
   ]
  },
  {
   "cell_type": "code",
   "execution_count": 40,
   "metadata": {},
   "outputs": [
    {
     "ename": "KeyError",
     "evalue": "'realtime_playback_info'",
     "output_type": "error",
     "traceback": [
      "\u001b[0;31m---------------------------------------------------------------------------\u001b[0m",
      "\u001b[0;31mKeyError\u001b[0m                                  Traceback (most recent call last)",
      "\u001b[0;32m<ipython-input-40-9f8bdff13f1f>\u001b[0m in \u001b[0;36m<module>\u001b[0;34m\u001b[0m\n\u001b[0;32m----> 1\u001b[0;31m \u001b[0mreq\u001b[0m\u001b[0;34m[\u001b[0m\u001b[0;34m\"body\"\u001b[0m\u001b[0;34m]\u001b[0m\u001b[0;34m[\u001b[0m\u001b[0;34m\"realtime_playback_info\"\u001b[0m\u001b[0;34m]\u001b[0m\u001b[0;34m[\u001b[0m\u001b[0;34m\"video_link\"\u001b[0m\u001b[0;34m]\u001b[0m\u001b[0;34m\u001b[0m\u001b[0;34m\u001b[0m\u001b[0m\n\u001b[0m",
      "\u001b[0;31mKeyError\u001b[0m: 'realtime_playback_info'"
     ]
    }
   ],
   "source": [
    "req[\"body\"][\"realtime_playback_info\"][\"video_link\"]"
   ]
  },
  {
   "cell_type": "code",
   "execution_count": null,
   "metadata": {},
   "outputs": [],
   "source": []
  },
  {
   "cell_type": "code",
   "execution_count": null,
   "metadata": {},
   "outputs": [],
   "source": []
  }
 ],
 "metadata": {
  "kernelspec": {
   "display_name": "Python 3",
   "language": "python",
   "name": "python3"
  },
  "language_info": {
   "codemirror_mode": {
    "name": "ipython",
    "version": 3
   },
   "file_extension": ".py",
   "mimetype": "text/x-python",
   "name": "python",
   "nbconvert_exporter": "python",
   "pygments_lexer": "ipython3",
   "version": "3.7.5"
  }
 },
 "nbformat": 4,
 "nbformat_minor": 4
}
